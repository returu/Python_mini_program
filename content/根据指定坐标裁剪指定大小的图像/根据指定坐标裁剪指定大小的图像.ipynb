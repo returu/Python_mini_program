{
 "cells": [
  {
   "cell_type": "markdown",
   "id": "c87aa393-88bc-4f01-966c-25619ce02fce",
   "metadata": {},
   "source": [
    "## 根据指定坐标裁剪指定大小的图像："
   ]
  },
  {
   "cell_type": "code",
   "execution_count": 1,
   "id": "4bdac555-b7ae-4996-9280-96d97d5604fa",
   "metadata": {},
   "outputs": [
    {
     "name": "stdout",
     "output_type": "stream",
     "text": [
      "图像的原始尺寸：715×1080\n"
     ]
    }
   ],
   "source": [
    "import cv2  \n",
    "  \n",
    "def crop_image(image_path, x, y, width, height):  \n",
    "    \"\"\"  \n",
    "    裁剪图像，并确保裁剪区域在图像尺寸范围内，然后保存裁剪后的图像  \n",
    "    :param image_path: 原始图像文件路径  \n",
    "    :param x: 裁剪区域左下角的x坐标  \n",
    "    :param y: 裁剪区域左下角的y坐标  \n",
    "    :param width: 裁剪区域的宽度  \n",
    "    :param height: 裁剪区域的高度  \n",
    "    \"\"\"  \n",
    "    # 读取图像  \n",
    "    image = cv2.imread(image_path)  \n",
    "      \n",
    "    # 检查图像是否成功加载  \n",
    "    if image is None:  \n",
    "        print(f\"无法加载图像：{image_path}\")  \n",
    "        return False  \n",
    "      \n",
    "    # 获取图像的尺寸  \n",
    "    image_height, image_width = image.shape[:2]  \n",
    "    print(f\"图像的原始尺寸：{image_height}×{image_width}\")\n",
    "\n",
    "    # 裁剪图像，检查裁剪区域是否超出图像尺寸\n",
    "    if x < 0 or y < 0 or x + width > image_width or y + height > image_height:\n",
    "        print(\"Specified width and height are larger than the image dimensions.\")\n",
    "    else:\n",
    "        cropped_image = image[y:y+height, x:x+width]\n",
    "      \n",
    "    # 保存裁剪后的图像\n",
    "    output_path = image_path.split(\".\")[0] + f\"_{x}-{y}_\" + f\"{width}-{height}\" + \".\" + image_path.split(\".\")[1]\n",
    "    cv2.imwrite(output_path, cropped_image)\n",
    "  \n",
    "# 示例使用  \n",
    "image_path = 'image.png'  # 替换为你的图像文件路径  \n",
    "x, y = 100, 50  # 裁剪区域左下角的坐标  \n",
    "width, height = 600, 400  # 裁剪区域的宽度和高度  \n",
    "\n",
    "crop_image(image_path, x, y, width, height)"
   ]
  },
  {
   "cell_type": "markdown",
   "id": "0bd8f7cf-16af-4f7b-8c4f-1e2385189878",
   "metadata": {},
   "source": [
    "## 以图像中心点为基准裁剪指定大小的图像："
   ]
  },
  {
   "cell_type": "code",
   "execution_count": 2,
   "id": "5e0f087f-39f0-470d-9375-7d9676e09231",
   "metadata": {},
   "outputs": [
    {
     "name": "stdout",
     "output_type": "stream",
     "text": [
      "图像的原始尺寸：715×1080\n"
     ]
    }
   ],
   "source": [
    "import cv2\n",
    "\n",
    "def crop_image(image_path, width, height):\n",
    "    \"\"\"  \n",
    "    裁剪图像，并确保裁剪区域在图像尺寸范围内，然后保存裁剪后的图像  \n",
    "    :param image_path: 原始图像文件路径  \n",
    "    :param width: 裁剪区域的宽度  \n",
    "    :param height: 裁剪区域的高度  \n",
    "    \"\"\"  \n",
    "    # 读取图像\n",
    "    image = cv2.imread(image_path)\n",
    "\n",
    "    # 检查图像是否成功加载  \n",
    "    if image is None:  \n",
    "        print(f\"无法加载图像：{image_path}\")  \n",
    "        return False  \n",
    "    \n",
    "    # 获取图像的原始尺寸\n",
    "    image_height, image_width = image.shape[:2]\n",
    "    print(f\"图像的原始尺寸：{image_height}×{image_width}\")\n",
    "    \n",
    "    # 计算裁剪的起始点\n",
    "    start_x = (image_width - width) // 2\n",
    "    start_y = (image_height - height) // 2\n",
    "    \n",
    "    # 裁剪图像\n",
    "    if start_x >= 0 and start_y >= 0:\n",
    "        cropped_img = image[start_y:start_y + height, start_x:start_x + width]\n",
    "    else:\n",
    "        print(\"Specified width and height are larger than the image dimensions.\")\n",
    "        return\n",
    "    \n",
    "    # 保存裁剪后的图像\n",
    "    output_path = image_path.split(\".\")[0] + f\"_{width}-{height}\"  + f\"_center\" + \".\" + image_path.split(\".\")[1]\n",
    "    cv2.imwrite(output_path, cropped_img)\n",
    "\n",
    "# 使用示例\n",
    "image_path = 'image.png'  # 替换为你的图像路径\n",
    "output_path = 'cropped_image_center.png'      # 输出图像的路径\n",
    "width = 700                           # 指定的宽度\n",
    "height = 700                          # 指定的高度\n",
    "\n",
    "crop_image(image_path, width, height)"
   ]
  },
  {
   "cell_type": "code",
   "execution_count": null,
   "id": "e1ad17d1-6cda-4088-a180-19d8a31bba9d",
   "metadata": {},
   "outputs": [],
   "source": []
  }
 ],
 "metadata": {
  "kernelspec": {
   "display_name": "Python 3 (ipykernel)",
   "language": "python",
   "name": "python3"
  },
  "language_info": {
   "codemirror_mode": {
    "name": "ipython",
    "version": 3
   },
   "file_extension": ".py",
   "mimetype": "text/x-python",
   "name": "python",
   "nbconvert_exporter": "python",
   "pygments_lexer": "ipython3",
   "version": "3.12.4"
  }
 },
 "nbformat": 4,
 "nbformat_minor": 5
}
